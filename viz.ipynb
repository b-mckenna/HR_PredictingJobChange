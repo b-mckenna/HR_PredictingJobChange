{
 "metadata": {
  "language_info": {
   "codemirror_mode": {
    "name": "ipython",
    "version": 3
   },
   "file_extension": ".py",
   "mimetype": "text/x-python",
   "name": "python",
   "nbconvert_exporter": "python",
   "pygments_lexer": "ipython3",
   "version": "3.6.4-final"
  },
  "orig_nbformat": 2,
  "kernelspec": {
   "name": "python3",
   "display_name": "Python 3.6.4 64-bit",
   "metadata": {
    "interpreter": {
     "hash": "aee8b7b246df8f9039afb4144a1f6fd8d2ca17a180786b69acc140d282b71a49"
    }
   }
  }
 },
 "nbformat": 4,
 "nbformat_minor": 2,
 "cells": [
  {
   "cell_type": "code",
   "execution_count": 2,
   "metadata": {},
   "outputs": [
    {
     "output_type": "stream",
     "name": "stdout",
     "text": [
      "<class 'pandas.core.frame.DataFrame'>\nRangeIndex: 19158 entries, 0 to 19157\nData columns (total 14 columns):\n #   Column                  Non-Null Count  Dtype  \n---  ------                  --------------  -----  \n 0   enrollee_id             19158 non-null  int64  \n 1   city                    19158 non-null  object \n 2   city_development_index  19158 non-null  float64\n 3   gender                  14650 non-null  object \n 4   relevent_experience     19158 non-null  object \n 5   enrolled_university     18772 non-null  object \n 6   education_level         18698 non-null  object \n 7   major_discipline        16345 non-null  object \n 8   experience              19093 non-null  object \n 9   company_size            13220 non-null  object \n 10  company_type            13018 non-null  object \n 11  last_new_job            18735 non-null  object \n 12  training_hours          19158 non-null  int64  \n 13  target                  19158 non-null  float64\ndtypes: float64(2), int64(2), object(10)\nmemory usage: 2.0+ MB\n"
     ]
    },
    {
     "output_type": "execute_result",
     "data": {
      "text/plain": [
       "enrollee_id                  0\n",
       "city                         0\n",
       "city_development_index       0\n",
       "gender                    4508\n",
       "relevent_experience          0\n",
       "enrolled_university        386\n",
       "education_level            460\n",
       "major_discipline          2813\n",
       "experience                  65\n",
       "company_size              5938\n",
       "company_type              6140\n",
       "last_new_job               423\n",
       "training_hours               0\n",
       "target                       0\n",
       "dtype: int64"
      ]
     },
     "metadata": {},
     "execution_count": 2
    }
   ],
   "source": [
    "import pandas as pd\n",
    "import matplotlib.pyplot as plt\n",
    "\n",
    "# Load data\n",
    "data = pd.read_csv(\"/Users/brendanmckenna/Dropbox/Projects/HR_DataScientists_JobChange/Data/aug_train.csv\")\n",
    "data.info()\n",
    "data.isnull().sum()"
   ]
  },
  {
   "cell_type": "code",
   "execution_count": 7,
   "metadata": {},
   "outputs": [],
   "source": [
    "col_name = data.columns\n",
    "graph_cols = [col for col in data.columns if data[col].nunique() < 40]\n",
    "\n",
    "for col in graph_cols:\n",
    "    cat_summary (data, col, plot=True)\n",
    "\n",
    "# which variables have the highest number of individuals interested in a job change\n",
    "\n",
    "def cat_summary(dataframe, col_name, plot=False):\n",
    "    df = pd.DataFrame({col_name: data[col_name].value_counts(), \"Ratio\": 100* data[col_name].value_counts() / len(data)})\n",
    "    print(df)\n",
    "    if plot:\n",
    "        plt.figure(figsize=(7,7))\n",
    "        plt.pie (df[\"Ratio\"], labels=df.index, labeldistance=1.15, wedgeprops = { 'linewidth' : 1, 'edgecolor' : 'white' }, autopct = \"%1.1f%%\", pctdistance=0.85, textprops={'fontsize': 10})\n",
    "            \n",
    "        #draw circle\n",
    "        centre_circle = plt.Circle((0,0),0.70,fc='white')\n",
    "        fig = plt.gcf()\n",
    "        fig.gca().add_artist(centre_circle)\n",
    "        plt.show()\n",
    "        print(\"=\"*50)"
   ]
  },
  {
   "cell_type": "code",
   "execution_count": null,
   "metadata": {},
   "outputs": [],
   "source": []
  }
 ]
}